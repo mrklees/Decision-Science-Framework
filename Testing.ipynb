{
 "cells": [
  {
   "cell_type": "code",
   "execution_count": 2,
   "metadata": {},
   "outputs": [],
   "source": [
    "from DecisionScienceFramework.utils import DistFinder\n",
    "from DecisionScienceFramework.decision import Decision"
   ]
  },
  {
   "cell_type": "markdown",
   "metadata": {},
   "source": [
    "# Finding parameters for an asymmetric distribution given a 90% CI\n",
    "\n",
    "This is helpful when an expert will give you a 90% CI and a mean for a particular distribution, and you need to infer its parmeters.  This finds the optimum through a simple hill climbing method."
   ]
  },
  {
   "cell_type": "code",
   "execution_count": 2,
   "metadata": {},
   "outputs": [
    {
     "name": "stdout",
     "output_type": "stream",
     "text": [
      "Optimization terminated successfully.\n",
      "         Current function value: 0.565085\n",
      "         Iterations: 82\n",
      "         Function evaluations: 160\n",
      "The fit parameters for this lognormal are mu: 0.9068750292439196, s: 0.8554886568419438 \n",
      "The fit distribution has a mean of 3.5708563830681457 and a 90% CI of (0.6063617093991157, 10.115092842435686).\n"
     ]
    },
    {
     "data": {
      "image/png": "[encoded data removed]",
      "text/plain": [
       "<matplotlib.figure.Figure at 0x2169a186fd0>"
      ]
     },
     "metadata": {},
     "output_type": "display_data"
    }
   ],
   "source": [
    "from DecisionScienceFramework.utils import DistFinder\n",
    "finder = DistFinder(lower=0, upper=10, ev=4, dist='Lognormal')\n",
    "params = finder.optimize()\n",
    "finder.summary()\n",
    "finder.plot_fit()"
   ]
  },
  {
   "cell_type": "code",
   "execution_count": 6,
   "metadata": {},
   "outputs": [
    {
     "name": "stdout",
     "output_type": "stream",
     "text": [
      "Optimization terminated successfully.\n",
      "         Current function value: 0.008719\n",
      "         Iterations: 74\n",
      "         Function evaluations: 142\n",
      "The fit parameters for this beta are alpha: 4.8509782855906955, beta: 9.982001360291518\n",
      "The fit distribution has a mean of 0.3270400419471604 and a 90% CI of (0.14706141112888488, 0.5343659561337517).\n"
     ]
    },
    {
     "data": {
      "image/png": "[encoded data removed]",
      "text/plain": [
       "<matplotlib.figure.Figure at 0x2169d75f400>"
      ]
     },
     "metadata": {},
     "output_type": "display_data"
    }
   ],
   "source": [
    "finder = DistFinder(lower=0.1, upper=.50, ev=.4, dist='Beta')\n",
    "params = finder.optimize()\n",
    "finder.summary()\n",
    "finder.plot_fit()"
   ]
  },
  {
   "cell_type": "markdown",
   "metadata": {},
   "source": [
    "# Building a decision"
   ]
  },
  {
   "cell_type": "code",
   "execution_count": 3,
   "metadata": {},
   "outputs": [],
   "source": [
    "# Initialize the decision object with a name and fp where we'll save our progress\n",
    "school_decision = Decision(\"School Decision\", fp=\"C:\\\\Users\\\\perus\\\\GitHub\\\\Decision-Science-Framework\")"
   ]
  },
  {
   "cell_type": "markdown",
   "metadata": {},
   "source": [
    "## Recreating the Decision Model sample\n",
    "\n",
    "In this decision we are choosing between two different recruitment strategies.  We might either hire new staff to actively recuit folks through different engagement strategies, or we could employ a digital media strategy that doesn't actually require more staff but has costs involved in purchasing the service.\n",
    "\n",
    "The base cost for either strategy is $1,000,000.  For each strategy we then want to consider the probability that we are over/under budget and the effictiveness of either strategy."
   ]
  },
  {
   "cell_type": "code",
   "execution_count": 4,
   "metadata": {},
   "outputs": [
    {
     "name": "stdout",
     "output_type": "stream",
     "text": [
      "Optimization terminated successfully.\n",
      "         Current function value: 569.337410\n",
      "         Iterations: 105\n",
      "         Function evaluations: 202\n"
     ]
    }
   ],
   "source": [
    "# For the hiring strategy, we consider the distribution that we are over/under the base \n",
    "# cost.  So in this case, we might be $20,000 under or $400,000 over.\n",
    "school_decision.add_variable_from_ci(\"HiringCostOver\", lower=-100000, upper=400000, dist=\"Normal\")\n",
    "# We also want to capture their effectiveness\n",
    "school_decision.add_variable_from_ci(\"HiringEffectiveness\", lower=30, upper=300, mode=80, dist=\"Lognormal\")"
   ]
  },
  {
   "cell_type": "code",
   "execution_count": 5,
   "metadata": {},
   "outputs": [
    {
     "name": "stdout",
     "output_type": "stream",
     "text": [
      "Optimization terminated successfully.\n",
      "         Current function value: 16.394315\n",
      "         Iterations: 88\n",
      "         Function evaluations: 173\n"
     ]
    }
   ],
   "source": [
    "# Okay, now we want to create similar variables but for the digital marketing strategy\n",
    "school_decision.add_variable_from_ci(\"MarketingCostOver\", lower=-20000, upper=80000, dist=\"Normal\")\n",
    "school_decision.add_variable_from_ci(\"MarketingEffectiveness\", lower=45, upper=90, mode=60, dist=\"Lognormal\")"
   ]
  },
  {
   "cell_type": "code",
   "execution_count": 6,
   "metadata": {},
   "outputs": [
    {
     "name": "stdout",
     "output_type": "stream",
     "text": [
      "Optimization terminated successfully.\n",
      "         Current function value: 17309836.200198\n",
      "         Iterations: 127\n",
      "         Function evaluations: 248\n"
     ]
    }
   ],
   "source": [
    "# Now that we've established costs and effectiveness, we just need to add someway to translate\n",
    "# the number of additional ACMs recruited to a monetary value \n",
    "school_decision.add_variable_from_ci(\"ACMValueAdd\", lower=3000, upper=48000, mode=9200, dist='Lognormal')"
   ]
  },
  {
   "cell_type": "code",
   "execution_count": 7,
   "metadata": {},
   "outputs": [
    {
     "name": "stderr",
     "output_type": "stream",
     "text": [
      "Auto-assigning NUTS sampler...\n",
      "Initializing NUTS using jitter+adapt_diag...\n",
      "C:\\Users\\perus\\AppData\\Local\\Continuum\\Anaconda3\\envs\\botworks\\lib\\site-packages\\pymc3\\model.py:384: FutureWarning: Conversion of the second argument of issubdtype from `float` to `np.floating` is deprecated. In future, it will be treated as `np.float64 == np.dtype(float).type`.\n",
      "  if not np.issubdtype(var.dtype, float):\n",
      "Sequential sampling (2 chains in 1 job)\n",
      "NUTS: [ACMValueAdd_log__, MarketingEffectiveness_log__, MarketingCostOver, HiringEffectiveness_log__, HiringCostOver]\n",
      "100%|█████████████████████████████████████████████████████████████████████████████| 1500/1500 [00:02<00:00, 616.30it/s]\n",
      "100%|████████████████████████████████████████████████████████████████████████████| 1500/1500 [00:01<00:00, 1319.36it/s]\n"
     ]
    }
   ],
   "source": [
    "# These are the last of our random variables.  Before defining any further deterministic variables,\n",
    "# like the loss function, we will need to sample.\n",
    "school_decision.sample(1000)"
   ]
  },
  {
   "cell_type": "code",
   "execution_count": null,
   "metadata": {},
   "outputs": [],
   "source": [
    "school_decision.add_variable_from_patsy(\"Hiring\")"
   ]
  }
 ],
 "metadata": {
  "kernelspec": {
   "display_name": "Python 3",
   "language": "python",
   "name": "python3"
  },
  "language_info": {
   "codemirror_mode": {
    "name": "ipython",
    "version": 3
   },
   "file_extension": ".py",
   "mimetype": "text/x-python",
   "name": "python",
   "nbconvert_exporter": "python",
   "pygments_lexer": "ipython3",
   "version": "3.6.4"
  }
 },
 "nbformat": 4,
 "nbformat_minor": 2
}
