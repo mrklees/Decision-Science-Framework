{
 "cells": [
  {
   "cell_type": "code",
   "execution_count": 1,
   "metadata": {},
   "outputs": [
    {
     "name": "stderr",
     "output_type": "stream",
     "text": [
      "C:\\Users\\perus\\AppData\\Local\\Continuum\\Anaconda3\\envs\\botworks\\lib\\site-packages\\h5py\\__init__.py:36: FutureWarning: Conversion of the second argument of issubdtype from `float` to `np.floating` is deprecated. In future, it will be treated as `np.float64 == np.dtype(float).type`.\n",
      "  from ._conv import register_converters as _register_converters\n"
     ]
    }
   ],
   "source": [
    "from DecisionScienceFramework.utils import DistFinder\n",
    "from DecisionScienceFramework.decision import Decision"
   ]
  },
  {
   "cell_type": "markdown",
   "metadata": {},
   "source": [
    "# Finding parameters for an asymmetric distribution given a 90% CI\n",
    "\n",
    "This is helpful when an expert will give you a 90% CI and a mean for a particular distribution, and you need to infer its parmeters.  This finds the optimum through a simple hill climbing method."
   ]
  },
  {
   "cell_type": "code",
   "execution_count": 2,
   "metadata": {},
   "outputs": [
    {
     "name": "stdout",
     "output_type": "stream",
     "text": [
      "Optimization terminated successfully.\n",
      "         Current function value: 0.565085\n",
      "         Iterations: 82\n",
      "         Function evaluations: 160\n",
      "The fit parameters for this lognormal are mu: 0.9068750292439196, s: 0.8554886568419438 \n",
      "The fit distribution has a mean of 3.5708563830681457 and a 90% CI of (0.6063617093991157, 10.115092842435686).\n"
     ]
    },
    {
     "data": {
      "image/png": "[encoded data removed]",
      "text/plain": [
       "<matplotlib.figure.Figure at 0x182c56b7f98>"
      ]
     },
     "metadata": {},
     "output_type": "display_data"
    }
   ],
   "source": [
    "from DecisionScienceFramework.utils import DistFinder\n",
    "finder = DistFinder(lower=0, upper=10, ev=4, dist='Lognormal')\n",
    "params = finder.optimize()\n",
    "finder.summary()\n",
    "finder.plot_fit()"
   ]
  },
  {
   "cell_type": "code",
   "execution_count": 3,
   "metadata": {},
   "outputs": [
    {
     "name": "stdout",
     "output_type": "stream",
     "text": [
      "Optimization terminated successfully.\n",
      "         Current function value: 0.000000\n",
      "         Iterations: 38\n",
      "         Function evaluations: 71\n",
      "The fit parameters for this beta are alpha: 0.9999593309435575, beta: 0.9999879257547469\n",
      "The fit distribution has a mean of 0.49999285110867453 and a 90% CI of (0.04999449675007655, 0.9499998267848907).\n"
     ]
    },
    {
     "data": {
      "image/png": "[encoded data removed]",
      "text/plain": [
       "<matplotlib.figure.Figure at 0x182c0ff4160>"
      ]
     },
     "metadata": {},
     "output_type": "display_data"
    }
   ],
   "source": [
    "finder = DistFinder(lower=0.05, upper=.95, ev=.5, dist='Beta')\n",
    "params = finder.optimize()\n",
    "finder.summary()\n",
    "finder.plot_fit()"
   ]
  },
  {
   "cell_type": "markdown",
   "metadata": {},
   "source": [
    "# Building a decision"
   ]
  },
  {
   "cell_type": "code",
   "execution_count": 40,
   "metadata": {},
   "outputs": [],
   "source": [
    "# Initialize the decision object with a name and fp where we'll save our progress\n",
    "school_decision = Decision(\"School Decision\", fp=\"C:\\\\Users\\\\perus\\\\GitHub\\\\Decision-Science-Framework\")"
   ]
  },
  {
   "cell_type": "markdown",
   "metadata": {},
   "source": [
    "## Recreating the Decision Model sample\n",
    "\n",
    "In this decision we are choosing between two different recruitment strategies.  We might either hire new staff to actively recuit folks through different engagement strategies, or we could employ a digital media strategy that doesn't actually require more staff but has costs involved in purchasing the service.\n",
    "\n",
    "The base cost for either strategy is $1,000,000.  For each strategy we then want to consider the probability that we are over/under budget and the effictiveness of either strategy."
   ]
  },
  {
   "cell_type": "code",
   "execution_count": 41,
   "metadata": {},
   "outputs": [
    {
     "name": "stdout",
     "output_type": "stream",
     "text": [
      "Optimization terminated successfully.\n",
      "         Current function value: 569.337410\n",
      "         Iterations: 105\n",
      "         Function evaluations: 202\n"
     ]
    }
   ],
   "source": [
    "# For the hiring strategy, we consider the distribution that we are over/under the base \n",
    "# cost.  So in this case, we might be $20,000 under or $400,000 over.\n",
    "school_decision.add_variable_from_ci(\"HiringCostOver\", lower=-100000, upper=400000, dist=\"Normal\")\n",
    "# We also want to capture their effectiveness\n",
    "school_decision.add_variable_from_ci(\"HiringEffectiveness\", lower=30, upper=300, mode=80, dist=\"Lognormal\")"
   ]
  },
  {
   "cell_type": "code",
   "execution_count": 42,
   "metadata": {},
   "outputs": [
    {
     "name": "stdout",
     "output_type": "stream",
     "text": [
      "Optimization terminated successfully.\n",
      "         Current function value: 16.394315\n",
      "         Iterations: 88\n",
      "         Function evaluations: 173\n"
     ]
    }
   ],
   "source": [
    "# Okay, now we want to create similar variables but for the digital marketing strategy\n",
    "school_decision.add_variable_from_ci(\"MarketingCostOver\", lower=-20000, upper=80000, dist=\"Normal\")\n",
    "school_decision.add_variable_from_ci(\"MarketingEffectiveness\", lower=45, upper=90, mode=60, dist=\"Lognormal\")"
   ]
  },
  {
   "cell_type": "code",
   "execution_count": 43,
   "metadata": {},
   "outputs": [
    {
     "name": "stdout",
     "output_type": "stream",
     "text": [
      "Optimization terminated successfully.\n",
      "         Current function value: 17309836.200198\n",
      "         Iterations: 127\n",
      "         Function evaluations: 248\n"
     ]
    }
   ],
   "source": [
    "# Now that we've established costs and effectiveness, we just need to add someway to translate\n",
    "# the number of additional ACMs recruited to a monetary value \n",
    "school_decision.add_variable_from_ci(\"ACMValueAdd\", lower=3000, upper=48000, mode=9200, dist='Lognormal')"
   ]
  },
  {
   "cell_type": "code",
   "execution_count": 67,
   "metadata": {},
   "outputs": [
    {
     "name": "stderr",
     "output_type": "stream",
     "text": [
      "Auto-assigning NUTS sampler...\n",
      "Initializing NUTS using jitter+adapt_diag...\n",
      "C:\\Users\\perus\\AppData\\Local\\Continuum\\Anaconda3\\envs\\botworks\\lib\\site-packages\\pymc3\\model.py:384: FutureWarning: Conversion of the second argument of issubdtype from `float` to `np.floating` is deprecated. In future, it will be treated as `np.float64 == np.dtype(float).type`.\n",
      "  if not np.issubdtype(var.dtype, float):\n",
      "Sequential sampling (2 chains in 1 job)\n",
      "NUTS: [ACMValueAdd_log__, MarketingEffectiveness_log__, MarketingCostOver, HiringEffectiveness_log__, HiringCostOver]\n",
      "100%|████████████████████████████████████████████████████████████████████████████| 5500/5500 [00:05<00:00, 1075.88it/s]\n",
      "100%|████████████████████████████████████████████████████████████████████████████| 5500/5500 [00:03<00:00, 1423.81it/s]\n"
     ]
    }
   ],
   "source": [
    "# These are the last of our random variables.  Before defining any further deterministic variables,\n",
    "# like the loss function, we will need to sample.\n",
    "school_decision.sample(5000)"
   ]
  },
  {
   "cell_type": "code",
   "execution_count": 68,
   "metadata": {},
   "outputs": [],
   "source": [
    "school_decision.add_variable_from_patsy(\"HireCost\", \"-1000000 - HiringCostOver\")\n",
    "school_decision.add_variable_from_patsy(\"HireBenefit\", \"ACMValueAdd * HiringEffectiveness\")\n",
    "school_decision.add_variable_from_patsy(\"HireNet\", \"HireCost + HireBenefit\")"
   ]
  },
  {
   "cell_type": "code",
   "execution_count": 69,
   "metadata": {},
   "outputs": [],
   "source": [
    "school_decision.add_variable_from_patsy(\"MarketingCost\", \"-1000000 - MarketingCostOver\")\n",
    "school_decision.add_variable_from_patsy(\"MarketingBenefit\", \"ACMValueAdd * MarketingEffectiveness\")\n",
    "school_decision.add_variable_from_patsy(\"MarketingNet\", \"MarketingCost + MarketingBenefit\")"
   ]
  },
  {
   "cell_type": "code",
   "execution_count": 70,
   "metadata": {},
   "outputs": [],
   "source": [
    "school_decision.set_loss(\"MarketingNet - HireNet\")"
   ]
  },
  {
   "cell_type": "code",
   "execution_count": 71,
   "metadata": {},
   "outputs": [
    {
     "data": {
      "image/png": "[encoded data removed]",
      "text/plain": [
       "<matplotlib.figure.Figure at 0x182c8c33c88>"
      ]
     },
     "metadata": {},
     "output_type": "display_data"
    }
   ],
   "source": [
    "# Many negative options means that \n",
    "school_decision.plot_loss()"
   ]
  },
  {
   "cell_type": "code",
   "execution_count": 72,
   "metadata": {},
   "outputs": [],
   "source": [
    "import patsy \n",
    "import numpy as np\n",
    "\n",
    "def calculate_info_value(run_data, column):\n",
    "    baseline_uncertainty = eol(run_data)\n",
    "    mu = run_data[column].mean()\n",
    "    fixed = run_data.copy()\n",
    "    fixed[column] = mu\n",
    "    for key, item in school_decision.deterministic.items():\n",
    "        var = patsy.dmatrix(f\"I({item}) - 1\", data=fixed)\n",
    "        fixed[key] = np.asarray(var)\n",
    "    updated_uncertainty = eol(fixed)\n",
    "    return baseline_uncertainty - updated_uncertainty"
   ]
  },
  {
   "cell_type": "code",
   "execution_count": 73,
   "metadata": {},
   "outputs": [],
   "source": [
    "def eol(last_run):\n",
    "    exp_loss = last_run.loss.mean()\n",
    "    if exp_loss < 0:\n",
    "        return sum(last_run[last_run.loss > 0].loss) / last_run.shape[0]\n",
    "    else:\n",
    "        return sum(last_run[last_run.loss < 0].loss) / last_run.shape[0]"
   ]
  },
  {
   "cell_type": "code",
   "execution_count": 75,
   "metadata": {},
   "outputs": [
    {
     "data": {
      "text/plain": [
       "339661.0510959358"
      ]
     },
     "execution_count": 75,
     "metadata": {},
     "output_type": "execute_result"
    }
   ],
   "source": [
    "eol(school_decision.last_run)"
   ]
  },
  {
   "cell_type": "code",
   "execution_count": 76,
   "metadata": {},
   "outputs": [
    {
     "name": "stdout",
     "output_type": "stream",
     "text": [
      "HiringCostOver: 10683.768681533867\n",
      "HiringEffectiveness: 265331.6618693321\n",
      "MarketingCostOver: 327.919167125714\n",
      "MarketingEffectiveness: 10227.365037254931\n",
      "ACMValueAdd: 25184.225842511572\n"
     ]
    }
   ],
   "source": [
    "for column in school_decision.random.keys():\n",
    "    print(f\"{column}: {calculate_info_value(school_decision.last_run, column)}\")"
   ]
  },
  {
   "cell_type": "code",
   "execution_count": 52,
   "metadata": {},
   "outputs": [
    {
     "data": {
      "text/plain": [
       "482912.7541221414"
      ]
     },
     "execution_count": 52,
     "metadata": {},
     "output_type": "execute_result"
    }
   ],
   "source": [
    "eol(school_decision.last_run)"
   ]
  },
  {
   "cell_type": "code",
   "execution_count": 34,
   "metadata": {},
   "outputs": [
    {
     "data": {
      "text/plain": [
       "-292242.0700211502"
      ]
     },
     "execution_count": 34,
     "metadata": {},
     "output_type": "execute_result"
    }
   ],
   "source": [
    "school_decision.last_run.loss.mean()"
   ]
  },
  {
   "cell_type": "code",
   "execution_count": 39,
   "metadata": {},
   "outputs": [
    {
     "data": {
      "text/plain": [
       "0.34"
      ]
     },
     "execution_count": 39,
     "metadata": {},
     "output_type": "execute_result"
    }
   ],
   "source": [
    "# Probability of loss given that we choose Marketing\n",
    "school_decision.last_run.isLoss.mean()"
   ]
  },
  {
   "cell_type": "code",
   "execution_count": 31,
   "metadata": {},
   "outputs": [
    {
     "data": {
      "text/plain": [
       "-1831508.1008010048"
      ]
     },
     "execution_count": 31,
     "metadata": {},
     "output_type": "execute_result"
    }
   ],
   "source": [
    "# Total loss given that we choose Marketing\n",
    "school_decision.last_run[school_decision.last_run.isLoss == 1].loss.mean()"
   ]
  },
  {
   "cell_type": "code",
   "execution_count": 32,
   "metadata": {},
   "outputs": [
    {
     "data": {
      "text/plain": [
       "500713.15795634745"
      ]
     },
     "execution_count": 32,
     "metadata": {},
     "output_type": "execute_result"
    }
   ],
   "source": [
    "# Total loss given that we choose Marketing\n",
    "school_decision.last_run[school_decision.last_run.isLoss == 0].loss.mean()"
   ]
  },
  {
   "cell_type": "code",
   "execution_count": 24,
   "metadata": {},
   "outputs": [
    {
     "data": {
      "text/plain": [
       "-292242.0700211502"
      ]
     },
     "execution_count": 24,
     "metadata": {},
     "output_type": "execute_result"
    }
   ],
   "source": [
    "school_decision.last_run.loss.mean()"
   ]
  },
  {
   "cell_type": "code",
   "execution_count": 112,
   "metadata": {},
   "outputs": [
    {
     "data": {
      "text/plain": [
       "-251310.60329063085"
      ]
     },
     "execution_count": 112,
     "metadata": {},
     "output_type": "execute_result"
    }
   ],
   "source": [
    "school_decision.last_run.loss.mean()"
   ]
  },
  {
   "cell_type": "code",
   "execution_count": 14,
   "metadata": {},
   "outputs": [
    {
     "data": {
      "text/plain": [
       "5144533.42696141"
      ]
     },
     "execution_count": 14,
     "metadata": {},
     "output_type": "execute_result"
    }
   ],
   "source": [
    "school_decision.last_run.loss.std()"
   ]
  },
  {
   "cell_type": "code",
   "execution_count": 55,
   "metadata": {},
   "outputs": [],
   "source": [
    "def get_interval(alpha, samples):\n",
    "    loss_vec = samples.sort_values('loss', ascending=True).loss\n",
    "    min_ix = int(loss_vec.shape[0]*alpha)\n",
    "    max_ix = int(loss_vec.shape[0]*(1-alpha))\n",
    "    return loss_vec.iloc[min_ix], loss_vec.iloc[max_ix]  "
   ]
  },
  {
   "cell_type": "code",
   "execution_count": 57,
   "metadata": {},
   "outputs": [
    {
     "data": {
      "text/plain": [
       "(-1901594.7774178819, 1073680.9680925482)"
      ]
     },
     "execution_count": 57,
     "metadata": {},
     "output_type": "execute_result"
    }
   ],
   "source": [
    "get_interval(0.05, school_decision.last_run)"
   ]
  },
  {
   "cell_type": "code",
   "execution_count": null,
   "metadata": {},
   "outputs": [],
   "source": []
  }
 ],
 "metadata": {
  "kernelspec": {
   "display_name": "Python 3",
   "language": "python",
   "name": "python3"
  },
  "language_info": {
   "codemirror_mode": {
    "name": "ipython",
    "version": 3
   },
   "file_extension": ".py",
   "mimetype": "text/x-python",
   "name": "python",
   "nbconvert_exporter": "python",
   "pygments_lexer": "ipython3",
   "version": "3.6.4"
  }
 },
 "nbformat": 4,
 "nbformat_minor": 2
}
