{
 "cells": [
  {
   "cell_type": "code",
   "execution_count": 1,
   "metadata": {},
   "outputs": [
    {
     "name": "stderr",
     "output_type": "stream",
     "text": [
      "C:\\Users\\perus\\AppData\\Local\\Continuum\\Anaconda3\\envs\\botworks\\lib\\site-packages\\h5py\\__init__.py:36: FutureWarning: Conversion of the second argument of issubdtype from `float` to `np.floating` is deprecated. In future, it will be treated as `np.float64 == np.dtype(float).type`.\n",
      "  from ._conv import register_converters as _register_converters\n"
     ]
    }
   ],
   "source": [
    "from DecisionScienceFramework.utils import DistFinder\n",
    "from DecisionScienceFramework.decision import Decision\n",
    "\n",
    "from scipy.stats import lognorm, beta"
   ]
  },
  {
   "cell_type": "markdown",
   "metadata": {},
   "source": [
    "# Finding parameters for an asymmetric distribution given a 90% CI\n",
    "\n",
    "This is helpful when an expert will give you a 90% CI and a mean for a particular distribution, and you need to infer its parmeters.  This finds the optimum through a simple hill climbing method."
   ]
  },
  {
   "cell_type": "code",
   "execution_count": 7,
   "metadata": {},
   "outputs": [
    {
     "name": "stdout",
     "output_type": "stream",
     "text": [
      "Optimization terminated successfully.\n",
      "         Current function value: 0.565085\n",
      "         Iterations: 82\n",
      "         Function evaluations: 160\n"
     ]
    },
    {
     "data": {
      "text/plain": [
       "{'mu': 0.9068750292439196, 'sd': 0.8554886568419438}"
      ]
     },
     "execution_count": 7,
     "metadata": {},
     "output_type": "execute_result"
    }
   ],
   "source": [
    "from DecisionScienceFramework.utils import DistFinder\n",
    "DistFinder(lower=0, upper=10, ev=4, dist='lognormal').optimize()"
   ]
  },
  {
   "cell_type": "code",
   "execution_count": 4,
   "metadata": {},
   "outputs": [],
   "source": [
    "params"
   ]
  },
  {
   "cell_type": "code",
   "execution_count": 5,
   "metadata": {},
   "outputs": [
    {
     "name": "stdout",
     "output_type": "stream",
     "text": [
      "Optimization terminated successfully.\n",
      "         Current function value: 0.000129\n",
      "         Iterations: 63\n",
      "         Function evaluations: 119\n",
      "The fit parameters for this beta are alpha: 3.665347588181108, beta: 5.702861705722535\n",
      "The fit distribution has a mean of 0.3912538109675166 and a 90% CI of (0.15576298090844676, 0.6544443370777622).\n"
     ]
    },
    {
     "data": {
      "text/plain": [
       "<DecisionScienceFramework.utils.DistFinder at 0x21888c8f550>"
      ]
     },
     "execution_count": 5,
     "metadata": {},
     "output_type": "execute_result"
    },
    {
     "data": {
      "image/png": "[encoded data removed]",
      "text/plain": [
       "<matplotlib.figure.Figure at 0x21888c8feb8>"
      ]
     },
     "metadata": {},
     "output_type": "display_data"
    }
   ],
   "source": [
    "DistFinder(lower=0.15, upper=0.65, ev=0.4, dist=beta)"
   ]
  },
  {
   "cell_type": "markdown",
   "metadata": {},
   "source": [
    "# Building a decision"
   ]
  },
  {
   "cell_type": "code",
   "execution_count": 3,
   "metadata": {},
   "outputs": [],
   "source": [
    "# Initialize the decision object with a name and fp where we'll save our progress\n",
    "school_decision = Decision(\"School Decision\", fp=\"C:\\\\Users\\\\perus\\\\GitHub\\\\Decision-Science-Framework\")\n",
    "school_decision.save_state()"
   ]
  },
  {
   "cell_type": "markdown",
   "metadata": {},
   "source": [
    "## Recreating the Decision Model sample"
   ]
  },
  {
   "cell_type": "code",
   "execution_count": 5,
   "metadata": {},
   "outputs": [],
   "source": [
    "school_decision.add_variable(\"\")"
   ]
  },
  {
   "cell_type": "code",
   "execution_count": null,
   "metadata": {},
   "outputs": [],
   "source": []
  }
 ],
 "metadata": {
  "kernelspec": {
   "display_name": "Python 3",
   "language": "python",
   "name": "python3"
  },
  "language_info": {
   "codemirror_mode": {
    "name": "ipython",
    "version": 3
   },
   "file_extension": ".py",
   "mimetype": "text/x-python",
   "name": "python",
   "nbconvert_exporter": "python",
   "pygments_lexer": "ipython3",
   "version": "3.6.4"
  }
 },
 "nbformat": 4,
 "nbformat_minor": 2
}
