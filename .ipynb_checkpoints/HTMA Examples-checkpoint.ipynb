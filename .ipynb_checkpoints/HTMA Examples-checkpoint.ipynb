{
 "cells": [
  {
   "cell_type": "markdown",
   "metadata": {
    "hideCode": false,
    "hidePrompt": false
   },
   "source": [
    "# Introduction\n",
    "\n",
    "Welcome! The goal of this workbook is to walkthrough the various examples detailed in the accompanying Excel workbooks to *How to Measure Anything*.  Upon reviewing all of those example we will seek to create some helper function for performing common tasks in Applied Information Economics.  We will primarily lean on the numpy and PyMC3 libraries, with PyMC3 also recieving support from Theano.  PyMC3 is capable of performing scalable Beyesian Inference using modern approaches to Monte Carlo simulation and Beysian Variational Inference.  \n",
    "\n",
    "## Example from Chapter 6: Monte Carlo Simulation\n",
    "The purpose of this example is to model the decision of purchasing a new machine.  Its a simple model with only a few variables, but will nicely demonstrate PyMC3's abilitiy to model these types of problems.\n",
    "\n",
    "In this scenario the machine we desire to purchase costs \\$400,000.  We therefore have to make at least that much in savings in order to justify those savings.  We consulted calibrated experts and came up with 4 90% confidence intervals:\n",
    "\n",
    "|Ranges\t| Maintenance Savings (\\$ per unit produced)\t|Labor Savings (\\$ per unit produced)\t|Raw Materials Savings (\\$ per unit produced)|\t Production Level (units per year) |\n",
    "|:---:|:---:|:---:|:---:|:---:|\n",
    "|Upper Bound\t|\\$20| \t\\$8 |\t\\$9 |\t 35,000 |\n",
    "|Mean\t|\\$15 \t|\\$3| \t\\$6 |\t 25,000 |\n",
    "|Lower Bound\t|\\$10| \t-\\$2| \\$3 |\t 15,000 |\n",
    "\n",
    "One note, it is historically been typical to use standard deviation, $\\sigma$, to paramatarize normal distributions, but I will tend to favor its precisions, $\\frac{1}{\\sigma^2} = \\tau$.  For some intuition, as $\\tau$ increases, we have greater certainty about the value. To make the conversation from 90% CIs to precision easier, I derived a helper function."
   ]
  },
  {
   "cell_type": "code",
   "execution_count": 75,
   "metadata": {
    "hideCode": false,
    "hidePrompt": false
   },
   "outputs": [],
   "source": [
    "%matplotlib inline\n",
    "import numpy as np\n",
    "import pymc3 as pm\n",
    "import pandas as pd\n",
    "import theano.tensor as T\n",
    "import matplotlib.pyplot as plot\n",
    "\n",
    "from scipy import integrate\n",
    "\n",
    "def CItoNorm(lower, upper):\n",
    "    mu = (upper + lower) / 2\n",
    "    tau = 10.8241 / (upper - lower) ** 2\n",
    "    return mu, tau"
   ]
  },
  {
   "cell_type": "markdown",
   "metadata": {
    "hideCode": false,
    "hidePrompt": false
   },
   "source": [
    "With that in place we can now paramatarize the priors of our model and specify the rest."
   ]
  },
  {
   "cell_type": "code",
   "execution_count": 4,
   "metadata": {
    "hideCode": false,
    "hidePrompt": false
   },
   "outputs": [
    {
     "name": "stderr",
     "output_type": "stream",
     "text": [
      "Auto-assigning NUTS sampler...\n",
      "Initializing NUTS using advi...\n",
      "Average ELBO = -0.015106: 100%|█████████████████████████████████████████████| 200000/200000 [00:10<00:00, 18650.13it/s]\n",
      "Finished [100%]: Average ELBO = -0.027134\n",
      "100%|██████████████████████████████████████████████████████████████████████████| 10000/10000 [00:06<00:00, 1476.37it/s]\n"
     ]
    }
   ],
   "source": [
    "N_samples = 10000\n",
    "\n",
    "mu_maint, tau_maint = CItoNorm(10, 20)\n",
    "mu_labor, tau_labor = CItoNorm(-2, 8)\n",
    "mu_mat, tau_mat = CItoNorm(3, 9)\n",
    "mu_prod, tau_prod = CItoNorm(15000, 35000)\n",
    "\n",
    "with pm.Model() as first_model:\n",
    "    # Priors\n",
    "    maint = pm.Normal(\"maint\", mu=mu_maint, tau=tau_maint)\n",
    "    labor = pm.Normal(\"labor\", mu=mu_labor, tau=tau_labor)\n",
    "    materials = pm.Normal(\"materials\", mu=mu_mat, tau=tau_mat)\n",
    "    production = pm.Normal(\"production\", mu=mu_prod, tau=tau_prod)\n",
    "    \n",
    "    # Combine to get savings\n",
    "    savings = pm.Deterministic(\"savings\", (maint + labor + materials) * production)\n",
    "    \n",
    "    trace = pm.sample(N_samples)"
   ]
  },
  {
   "cell_type": "markdown",
   "metadata": {
    "hideCode": false,
    "hidePrompt": false
   },
   "source": [
    "After running the above simulation we will have successfully sampled 10,000 simulations using NUTS"
   ]
  },
  {
   "cell_type": "code",
   "execution_count": 65,
   "metadata": {
    "hideCode": false,
    "hideOutput": true,
    "hidePrompt": false
   },
   "outputs": [
    {
     "name": "stdout",
     "output_type": "stream",
     "text": [
      "\n",
      "maint:\n",
      "\n",
      "  Mean             SD               MC Error         95% HPD interval\n",
      "  -------------------------------------------------------------------\n",
      "  \n",
      "  14.978           3.085            0.029            [8.806, 20.876]\n",
      "\n",
      "  Posterior quantiles:\n",
      "  2.5            25             50             75             97.5\n",
      "  |--------------|==============|==============|--------------|\n",
      "  \n",
      "  8.898          12.912         15.007         17.036         20.988\n",
      "\n",
      "\n",
      "labor:\n",
      "\n",
      "  Mean             SD               MC Error         95% HPD interval\n",
      "  -------------------------------------------------------------------\n",
      "  \n",
      "  2.982            2.994            0.032            [-2.792, 8.900]\n",
      "\n",
      "  Posterior quantiles:\n",
      "  2.5            25             50             75             97.5\n",
      "  |--------------|==============|==============|--------------|\n",
      "  \n",
      "  -2.926         0.983          3.009          4.995          8.817\n",
      "\n",
      "\n",
      "materials:\n",
      "\n",
      "  Mean             SD               MC Error         95% HPD interval\n",
      "  -------------------------------------------------------------------\n",
      "  \n",
      "  5.994            1.780            0.016            [2.505, 9.396]\n",
      "\n",
      "  Posterior quantiles:\n",
      "  2.5            25             50             75             97.5\n",
      "  |--------------|==============|==============|--------------|\n",
      "  \n",
      "  2.541          4.800          6.007          7.214          9.464\n",
      "\n",
      "\n",
      "production:\n",
      "\n",
      "  Mean             SD               MC Error         95% HPD interval\n",
      "  -------------------------------------------------------------------\n",
      "  \n",
      "  25016.348        5982.682         58.982           [13352.372, 36829.521]\n",
      "\n",
      "  Posterior quantiles:\n",
      "  2.5            25             50             75             97.5\n",
      "  |--------------|==============|==============|--------------|\n",
      "  \n",
      "  13209.336      21071.917      24984.451      28994.592      36737.188\n",
      "\n",
      "\n",
      "savings:\n",
      "\n",
      "  Mean             SD               MC Error         95% HPD interval\n",
      "  -------------------------------------------------------------------\n",
      "  \n",
      "  599085.845       187092.989       1940.081         [245228.968, 972046.185]\n",
      "\n",
      "  Posterior quantiles:\n",
      "  2.5            25             50             75             97.5\n",
      "  |--------------|==============|==============|--------------|\n",
      "  \n",
      "  272913.258     465869.469     585746.736     715865.579     1011486.791\n",
      "\n"
     ]
    },
    {
     "data": {
      "image/png": "[encoded data removed]",
      "text/plain": [
       "<matplotlib.figure.Figure at 0x20506515240>"
      ]
     },
     "metadata": {},
     "output_type": "display_data"
    },
    {
     "data": {
      "image/png": "[encoded data removed]",
      "text/plain": [
       "<matplotlib.figure.Figure at 0x20506507898>"
      ]
     },
     "metadata": {},
     "output_type": "display_data"
    }
   ],
   "source": [
    "def summarize_trace(trace):\n",
    "    pm.plots.traceplot(trace, varnames=[\"savings\"])\n",
    "    pm.plots.plot_posterior(trace, varnames=[\"savings\"], kde_plot=True)\n",
    "    pm.summary(trace)\n",
    "    \n",
    "summarize_trace(trace)"
   ]
  },
  {
   "cell_type": "code",
   "execution_count": 57,
   "metadata": {},
   "outputs": [
    {
     "data": {
      "text/plain": [
       "0.85819999999999996"
      ]
     },
     "execution_count": 57,
     "metadata": {},
     "output_type": "execute_result"
    }
   ],
   "source": [
    "def prob_break_even(trace):\n",
    "    return sum(trace.savings > 4e5) / trace.savings.shape[0]\n",
    "\n",
    "prob_break_even(trace)"
   ]
  },
  {
   "cell_type": "markdown",
   "metadata": {
    "hideCode": false,
    "hidePrompt": false
   },
   "source": [
    "So, taking a look at the distribution, we can already see that 400,000 is fairly low risk.  A simple calculation yields ~85% chance that we get or exceed 400,000 in savings.  Now, leadership might feel comfortable proceeding with this simple analysis performed.  However, we can further quantify the risk as a dollar value by finding the Expected Opportunity Loss.  To do this we need to lay out the decision and loss.\n",
    "\n",
    "| Decision | Savings >= 400,000 | Savings < 400,000 |\n",
    "|:--------:|:------------------:|:-----------------:|\n",
    "|          |       p = .86      |      p = .14      |\n",
    "| Buy Machine | 0 | 400,000 - Savings |\n",
    "| Don't Buy | Savings - 400,000 | 0 |"
   ]
  },
  {
   "cell_type": "code",
   "execution_count": 58,
   "metadata": {
    "collapsed": true
   },
   "outputs": [],
   "source": [
    "def calc_mid_points(edges):\n",
    "    mid_points = np.zeros(edges.shape[0]-1)\n",
    "    for i in range(mid_points.shape[0]):\n",
    "        mid_points[i] = (edges[i] + edges[i+1])/2\n",
    "    return(mid_points)\n",
    "\n",
    "def expected_values(trace, bins=10000):\n",
    "    sims = pm.trace_to_dataframe(trace)\n",
    "    hist, edges = np.histogram(sims.savings, density=False, bins=bins)\n",
    "    expect = pd.DataFrame({\"mp\" : calc_mid_points(edges), \"counts\" : hist})\n",
    "    expect[\"prob\"] = expect.counts / bins\n",
    "    expect['exp_buy_loss'] = expect.prob * np.where(expect.mp > 4e5, 0, 4e5 - expect.mp)\n",
    "    expect['exp_dont_buy_loss'] = expect.prob * np.where(expect.mp > 4e5, expect.mp - 4e5, 0)\n",
    "    return expect"
   ]
  },
  {
   "cell_type": "markdown",
   "metadata": {},
   "source": [
    "Essentially we break up the distribution sampled above into buckets and approximate the probability of an event happening in that bucket.  We can then multiply the probability of that value occuring by the loss associated with that value to obtain the Expected Opportunity Loss.  I calculated this for both sides of the decision."
   ]
  },
  {
   "cell_type": "code",
   "execution_count": 59,
   "metadata": {},
   "outputs": [
    {
     "name": "stdout",
     "output_type": "stream",
     "text": [
      "Expected Loss for Buying Machine: 10026.7045854\n",
      "Expected Loss for Not Buying Machine: 209111.804743\n"
     ]
    }
   ],
   "source": [
    "def reveal_expected(trace):\n",
    "    expected = expected_values(trace)\n",
    "    print(\"Expected Loss for Buying Machine:\", sum(expected.exp_buy_loss))\n",
    "    print(\"Expected Loss for Not Buying Machine:\", sum(expected.exp_dont_buy_loss))\n",
    "    \n",
    "reveal_expected(trace)"
   ]
  },
  {
   "cell_type": "markdown",
   "metadata": {},
   "source": [
    "Our results indicate that the risk associated with buying the machine is \\$10,026, whereas not buying the machine as a risk of \\$209,111.  Clearly we take on less risk by buying the machine.  Our overall EOL for buying the machine also happens to be the EVPI.  That is, we should at most spend ~\\$10,000 on measurements in order to completely eliminate our risk. \n",
    "\n",
    "The next step might be to try to identify which variable would have the largest impact on our EOL.  This would give us a good hint at what would yeild the highest value measurements.  This simply involves collapsing one of our variables from a probability distribution to a scalar.  Hubbard might have some advice on what value to choose (mean of our current distribution? ideal value?).  I am going to take the approach of simply fixing each variable at the midpoint of our current ranges.\n",
    "\n",
    "TODO: Figure out how to do this step programmatically."
   ]
  },
  {
   "cell_type": "code",
   "execution_count": 60,
   "metadata": {},
   "outputs": [
    {
     "name": "stderr",
     "output_type": "stream",
     "text": [
      "Auto-assigning NUTS sampler...\n",
      "Initializing NUTS using advi...\n",
      "Average ELBO = -0.019166: 100%|█████████████████████████████████████████████| 200000/200000 [00:09<00:00, 21770.63it/s]\n",
      "Finished [100%]: Average ELBO = -0.019747\n",
      "100%|██████████████████████████████████████████████████████████████████████████| 10000/10000 [00:07<00:00, 1425.34it/s]\n"
     ]
    }
   ],
   "source": [
    "with pm.Model() as fixed_maint_model:\n",
    "    # Priors\n",
    "    labor = pm.Normal(\"labor\", mu=mu_labor, tau=tau_labor)\n",
    "    materials = pm.Normal(\"materials\", mu=mu_mat, tau=tau_mat)\n",
    "    production = pm.Normal(\"production\", mu=mu_prod, tau=tau_prod)\n",
    "    \n",
    "    # Combine to get savings\n",
    "    savings = pm.Deterministic(\"savings\", (15 + labor + materials) * production)\n",
    "    \n",
    "    fixed_maint_trace = pm.sample(N_samples)"
   ]
  },
  {
   "cell_type": "code",
   "execution_count": 68,
   "metadata": {},
   "outputs": [
    {
     "name": "stderr",
     "output_type": "stream",
     "text": [
      "Auto-assigning NUTS sampler...\n",
      "Initializing NUTS using advi...\n",
      "Average ELBO = -0.032559: 100%|█████████████████████████████████████████████| 200000/200000 [00:09<00:00, 20821.17it/s]\n",
      "Finished [100%]: Average ELBO = -0.033498\n",
      "100%|██████████████████████████████████████████████████████████████████████████| 10000/10000 [00:06<00:00, 1585.72it/s]\n"
     ]
    }
   ],
   "source": [
    "with pm.Model() as fixed_labor_model:\n",
    "    # Priors\n",
    "    maint = pm.Normal(\"maint\", mu=mu_maint, tau=tau_maint)\n",
    "    materials = pm.Normal(\"materials\", mu=mu_mat, tau=tau_mat)\n",
    "    production = pm.Normal(\"production\", mu=mu_prod, tau=tau_prod)\n",
    "    \n",
    "    # Combine to get savings\n",
    "    savings = pm.Deterministic(\"savings\", (maint + 3 + materials) * production)\n",
    "    \n",
    "    fixed_labor_trace = pm.sample(N_samples)"
   ]
  },
  {
   "cell_type": "code",
   "execution_count": 69,
   "metadata": {},
   "outputs": [
    {
     "name": "stderr",
     "output_type": "stream",
     "text": [
      "Auto-assigning NUTS sampler...\n",
      "Initializing NUTS using advi...\n",
      "Average ELBO = -0.031163: 100%|█████████████████████████████████████████████| 200000/200000 [00:11<00:00, 17892.49it/s]\n",
      "Finished [100%]: Average ELBO = -0.025363\n",
      "100%|██████████████████████████████████████████████████████████████████████████| 10000/10000 [00:07<00:00, 1391.20it/s]\n"
     ]
    }
   ],
   "source": [
    "with pm.Model() as fixed_mat_model:\n",
    "    # Priors\n",
    "    maint = pm.Normal(\"maint\", mu=mu_maint, tau=tau_maint)\n",
    "    labor = pm.Normal(\"labor\", mu=mu_labor, tau=tau_labor)\n",
    "    production = pm.Normal(\"production\", mu=mu_prod, tau=tau_prod)\n",
    "    \n",
    "    # Combine to get savings\n",
    "    savings = pm.Deterministic(\"savings\", (maint + labor + 6) * production)\n",
    "    \n",
    "    fixed_mat_trace = pm.sample(N_samples)"
   ]
  },
  {
   "cell_type": "code",
   "execution_count": 70,
   "metadata": {},
   "outputs": [
    {
     "name": "stderr",
     "output_type": "stream",
     "text": [
      "Auto-assigning NUTS sampler...\n",
      "Initializing NUTS using advi...\n",
      "Average ELBO = -0.028314: 100%|█████████████████████████████████████████████| 200000/200000 [00:13<00:00, 14410.81it/s]\n",
      "Finished [100%]: Average ELBO = -0.032155\n",
      "100%|██████████████████████████████████████████████████████████████████████████| 10000/10000 [00:05<00:00, 1666.72it/s]\n"
     ]
    }
   ],
   "source": [
    "with pm.Model() as fixed_prod_model:\n",
    "    # Priors\n",
    "    maint = pm.Normal(\"maint\", mu=mu_maint, tau=tau_maint)\n",
    "    labor = pm.Normal(\"labor\", mu=mu_labor, tau=tau_labor)\n",
    "    materials = pm.Normal(\"materials\", mu=mu_mat, tau=tau_mat)\n",
    "    \n",
    "    # Combine to get savings\n",
    "    savings = pm.Deterministic(\"savings\", (maint + labor + materials) * 25000)\n",
    "    \n",
    "    fixed_prod_trace = pm.sample(N_samples)"
   ]
  },
  {
   "cell_type": "code",
   "execution_count": 67,
   "metadata": {},
   "outputs": [
    {
     "name": "stdout",
     "output_type": "stream",
     "text": [
      "Expected Loss for Buying Machine: 7953.37040941\n",
      "Expected Loss for Not Buying Machine: 206489.059736\n"
     ]
    }
   ],
   "source": [
    "reveal_expected(fixed_maint_trace)"
   ]
  },
  {
   "cell_type": "code",
   "execution_count": 71,
   "metadata": {},
   "outputs": [
    {
     "name": "stdout",
     "output_type": "stream",
     "text": [
      "Expected Loss for Buying Machine: 7964.82381676\n",
      "Expected Loss for Not Buying Machine: 206175.924817\n"
     ]
    }
   ],
   "source": [
    "reveal_expected(fixed_labor_trace)"
   ]
  },
  {
   "cell_type": "code",
   "execution_count": 72,
   "metadata": {},
   "outputs": [
    {
     "name": "stdout",
     "output_type": "stream",
     "text": [
      "Expected Loss for Buying Machine: 8685.68882845\n",
      "Expected Loss for Not Buying Machine: 210125.215009\n"
     ]
    }
   ],
   "source": [
    "reveal_expected(fixed_mat_trace)"
   ]
  },
  {
   "cell_type": "code",
   "execution_count": 73,
   "metadata": {},
   "outputs": [
    {
     "name": "stdout",
     "output_type": "stream",
     "text": [
      "Expected Loss for Buying Machine: 1916.71270597\n",
      "Expected Loss for Not Buying Machine: 201099.027869\n"
     ]
    }
   ],
   "source": [
    "reveal_expected(fixed_prod_trace)"
   ]
  },
  {
   "cell_type": "code",
   "execution_count": 74,
   "metadata": {},
   "outputs": [
    {
     "name": "stdout",
     "output_type": "stream",
     "text": [
      "\n",
      "maint:\n",
      "\n",
      "  Mean             SD               MC Error         95% HPD interval\n",
      "  -------------------------------------------------------------------\n",
      "  \n",
      "  15.001           3.003            0.027            [9.006, 20.728]\n",
      "\n",
      "  Posterior quantiles:\n",
      "  2.5            25             50             75             97.5\n",
      "  |--------------|==============|==============|--------------|\n",
      "  \n",
      "  9.135          12.949         15.048         17.007         20.892\n",
      "\n",
      "\n",
      "labor:\n",
      "\n",
      "  Mean             SD               MC Error         95% HPD interval\n",
      "  -------------------------------------------------------------------\n",
      "  \n",
      "  2.995            2.994            0.030            [-2.870, 8.810]\n",
      "\n",
      "  Posterior quantiles:\n",
      "  2.5            25             50             75             97.5\n",
      "  |--------------|==============|==============|--------------|\n",
      "  \n",
      "  -2.881         0.986          3.026          4.975          8.806\n",
      "\n",
      "\n",
      "materials:\n",
      "\n",
      "  Mean             SD               MC Error         95% HPD interval\n",
      "  -------------------------------------------------------------------\n",
      "  \n",
      "  5.971            1.812            0.016            [2.347, 9.428]\n",
      "\n",
      "  Posterior quantiles:\n",
      "  2.5            25             50             75             97.5\n",
      "  |--------------|==============|==============|--------------|\n",
      "  \n",
      "  2.439          4.762          5.967          7.184          9.559\n",
      "\n",
      "\n",
      "savings:\n",
      "\n",
      "  Mean             SD               MC Error         95% HPD interval\n",
      "  -------------------------------------------------------------------\n",
      "  \n",
      "  599182.488       114103.345       1093.562         [377052.786, 828046.344]\n",
      "\n",
      "  Posterior quantiles:\n",
      "  2.5            25             50             75             97.5\n",
      "  |--------------|==============|==============|--------------|\n",
      "  \n",
      "  369087.510     522907.669     599672.523     677171.293     821827.651\n",
      "\n"
     ]
    },
    {
     "data": {
      "image/png": "[encoded data removed]",
      "text/plain": [
       "<matplotlib.figure.Figure at 0x20505313860>"
      ]
     },
     "metadata": {},
     "output_type": "display_data"
    },
    {
     "data": {
      "image/png": "[encoded data removed]",
      "text/plain": [
       "<matplotlib.figure.Figure at 0x205022b5198>"
      ]
     },
     "metadata": {},
     "output_type": "display_data"
    }
   ],
   "source": [
    "summarize_trace(fixed_prod_trace)"
   ]
  },
  {
   "cell_type": "markdown",
   "metadata": {},
   "source": [
    "So, our analysis has yielded some results.  If we were interested in further measurement, then trying to narrow our CI around production would be the best use of our time and money.  One experiment we might try is simple measuring our current level of production over the past several years.  Bayesian Inference could take our current prior and, given an observed dataset, mold it into one which most closely matches the data.\n",
    "\n",
    "# Continuous Decision Example\n",
    "\n",
    "The other type of decisions we are likely to try to make is continuous instead of being discrete.  In this case we would like to set a proction level or some such decisions which requires choosing a value instead of simply choosing between two alternatives. "
   ]
  },
  {
   "cell_type": "code",
   "execution_count": null,
   "metadata": {
    "collapsed": true
   },
   "outputs": [],
   "source": []
  }
 ],
 "metadata": {
  "hide_code_all_hidden": false,
  "kernelspec": {
   "display_name": "Python 3",
   "language": "python",
   "name": "python3"
  },
  "language_info": {
   "codemirror_mode": {
    "name": "ipython",
    "version": 3
   },
   "file_extension": ".py",
   "mimetype": "text/x-python",
   "name": "python",
   "nbconvert_exporter": "python",
   "pygments_lexer": "ipython3",
   "version": "3.5.3"
  }
 },
 "nbformat": 4,
 "nbformat_minor": 2
}
